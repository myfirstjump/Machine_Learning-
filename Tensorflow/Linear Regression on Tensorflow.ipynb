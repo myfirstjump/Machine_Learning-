{
 "cells": [
  {
   "cell_type": "code",
   "execution_count": 1,
   "metadata": {
    "collapsed": true
   },
   "outputs": [],
   "source": [
    "\"\"\" Starter code for simple linear regression example using placeholders\n",
    "Created by Chip Huyen (huyenn@cs.stanford.edu)\n",
    "CS20: \"TensorFlow for Deep Learning Research\"\n",
    "cs20.stanford.edu\n",
    "Lecture 03\n",
    "\"\"\"\n",
    "import os\n",
    "os.environ['TF_CPP_MIN_LOG_LEVEL']='2'\n",
    "import time\n",
    "\n",
    "import numpy as np\n",
    "import matplotlib.pyplot as plt\n",
    "import tensorflow as tf\n",
    "\n",
    "import utils"
   ]
  },
  {
   "cell_type": "code",
   "execution_count": 32,
   "metadata": {
    "collapsed": true
   },
   "outputs": [],
   "source": [
    "DATA_FILE = 'data/birth_life_2010.txt'\n",
    "\n",
    "# Step 1: read in data from the .txt file\n",
    "data, n_samples = utils.read_birth_life_data(DATA_FILE)"
   ]
  },
  {
   "cell_type": "code",
   "execution_count": 33,
   "metadata": {
    "scrolled": true
   },
   "outputs": [
    {
     "name": "stdout",
     "output_type": "stream",
     "text": [
      "Epoch 0: Tensor(\"truediv:0\", dtype=float32)\n",
      "Epoch 1: Tensor(\"truediv_1:0\", dtype=float32)\n",
      "Epoch 2: Tensor(\"truediv_2:0\", dtype=float32)\n",
      "Epoch 3: Tensor(\"truediv_3:0\", dtype=float32)\n",
      "Epoch 4: Tensor(\"truediv_4:0\", dtype=float32)\n",
      "Epoch 5: Tensor(\"truediv_5:0\", dtype=float32)\n",
      "Epoch 6: Tensor(\"truediv_6:0\", dtype=float32)\n",
      "Epoch 7: Tensor(\"truediv_7:0\", dtype=float32)\n",
      "Epoch 8: Tensor(\"truediv_8:0\", dtype=float32)\n",
      "Epoch 9: Tensor(\"truediv_9:0\", dtype=float32)\n",
      "Epoch 10: Tensor(\"truediv_10:0\", dtype=float32)\n",
      "Epoch 11: Tensor(\"truediv_11:0\", dtype=float32)\n",
      "Epoch 12: Tensor(\"truediv_12:0\", dtype=float32)\n",
      "Epoch 13: Tensor(\"truediv_13:0\", dtype=float32)\n",
      "Epoch 14: Tensor(\"truediv_14:0\", dtype=float32)\n",
      "Epoch 15: Tensor(\"truediv_15:0\", dtype=float32)\n",
      "Epoch 16: Tensor(\"truediv_16:0\", dtype=float32)\n",
      "Epoch 17: Tensor(\"truediv_17:0\", dtype=float32)\n",
      "Epoch 18: Tensor(\"truediv_18:0\", dtype=float32)\n",
      "Epoch 19: Tensor(\"truediv_19:0\", dtype=float32)\n",
      "Epoch 20: Tensor(\"truediv_20:0\", dtype=float32)\n",
      "Epoch 21: Tensor(\"truediv_21:0\", dtype=float32)\n",
      "Epoch 22: Tensor(\"truediv_22:0\", dtype=float32)\n",
      "Epoch 23: Tensor(\"truediv_23:0\", dtype=float32)\n",
      "Epoch 24: Tensor(\"truediv_24:0\", dtype=float32)\n",
      "Epoch 25: Tensor(\"truediv_25:0\", dtype=float32)\n",
      "Epoch 26: Tensor(\"truediv_26:0\", dtype=float32)\n",
      "Epoch 27: Tensor(\"truediv_27:0\", dtype=float32)\n",
      "Epoch 28: Tensor(\"truediv_28:0\", dtype=float32)\n",
      "Epoch 29: Tensor(\"truediv_29:0\", dtype=float32)\n",
      "Epoch 30: Tensor(\"truediv_30:0\", dtype=float32)\n",
      "Epoch 31: Tensor(\"truediv_31:0\", dtype=float32)\n",
      "Epoch 32: Tensor(\"truediv_32:0\", dtype=float32)\n",
      "Epoch 33: Tensor(\"truediv_33:0\", dtype=float32)\n",
      "Epoch 34: Tensor(\"truediv_34:0\", dtype=float32)\n",
      "Epoch 35: Tensor(\"truediv_35:0\", dtype=float32)\n",
      "Epoch 36: Tensor(\"truediv_36:0\", dtype=float32)\n",
      "Epoch 37: Tensor(\"truediv_37:0\", dtype=float32)\n",
      "Epoch 38: Tensor(\"truediv_38:0\", dtype=float32)\n",
      "Epoch 39: Tensor(\"truediv_39:0\", dtype=float32)\n",
      "Epoch 40: Tensor(\"truediv_40:0\", dtype=float32)\n",
      "Epoch 41: Tensor(\"truediv_41:0\", dtype=float32)\n",
      "Epoch 42: Tensor(\"truediv_42:0\", dtype=float32)\n",
      "Epoch 43: Tensor(\"truediv_43:0\", dtype=float32)\n",
      "Epoch 44: Tensor(\"truediv_44:0\", dtype=float32)\n",
      "Epoch 45: Tensor(\"truediv_45:0\", dtype=float32)\n",
      "Epoch 46: Tensor(\"truediv_46:0\", dtype=float32)\n",
      "Epoch 47: Tensor(\"truediv_47:0\", dtype=float32)\n",
      "Epoch 48: Tensor(\"truediv_48:0\", dtype=float32)\n",
      "Epoch 49: Tensor(\"truediv_49:0\", dtype=float32)\n",
      "Epoch 50: Tensor(\"truediv_50:0\", dtype=float32)\n",
      "Epoch 51: Tensor(\"truediv_51:0\", dtype=float32)\n",
      "Epoch 52: Tensor(\"truediv_52:0\", dtype=float32)\n",
      "Epoch 53: Tensor(\"truediv_53:0\", dtype=float32)\n",
      "Epoch 54: Tensor(\"truediv_54:0\", dtype=float32)\n",
      "Epoch 55: Tensor(\"truediv_55:0\", dtype=float32)\n",
      "Epoch 56: Tensor(\"truediv_56:0\", dtype=float32)\n",
      "Epoch 57: Tensor(\"truediv_57:0\", dtype=float32)\n",
      "Epoch 58: Tensor(\"truediv_58:0\", dtype=float32)\n",
      "Epoch 59: Tensor(\"truediv_59:0\", dtype=float32)\n",
      "Epoch 60: Tensor(\"truediv_60:0\", dtype=float32)\n",
      "Epoch 61: Tensor(\"truediv_61:0\", dtype=float32)\n",
      "Epoch 62: Tensor(\"truediv_62:0\", dtype=float32)\n",
      "Epoch 63: Tensor(\"truediv_63:0\", dtype=float32)\n",
      "Epoch 64: Tensor(\"truediv_64:0\", dtype=float32)\n",
      "Epoch 65: Tensor(\"truediv_65:0\", dtype=float32)\n",
      "Epoch 66: Tensor(\"truediv_66:0\", dtype=float32)\n",
      "Epoch 67: Tensor(\"truediv_67:0\", dtype=float32)\n",
      "Epoch 68: Tensor(\"truediv_68:0\", dtype=float32)\n",
      "Epoch 69: Tensor(\"truediv_69:0\", dtype=float32)\n",
      "Epoch 70: Tensor(\"truediv_70:0\", dtype=float32)\n",
      "Epoch 71: Tensor(\"truediv_71:0\", dtype=float32)\n",
      "Epoch 72: Tensor(\"truediv_72:0\", dtype=float32)\n",
      "Epoch 73: Tensor(\"truediv_73:0\", dtype=float32)\n",
      "Epoch 74: Tensor(\"truediv_74:0\", dtype=float32)\n",
      "Epoch 75: Tensor(\"truediv_75:0\", dtype=float32)\n",
      "Epoch 76: Tensor(\"truediv_76:0\", dtype=float32)\n",
      "Epoch 77: Tensor(\"truediv_77:0\", dtype=float32)\n",
      "Epoch 78: Tensor(\"truediv_78:0\", dtype=float32)\n",
      "Epoch 79: Tensor(\"truediv_79:0\", dtype=float32)\n",
      "Epoch 80: Tensor(\"truediv_80:0\", dtype=float32)\n",
      "Epoch 81: Tensor(\"truediv_81:0\", dtype=float32)\n",
      "Epoch 82: Tensor(\"truediv_82:0\", dtype=float32)\n",
      "Epoch 83: Tensor(\"truediv_83:0\", dtype=float32)\n",
      "Epoch 84: Tensor(\"truediv_84:0\", dtype=float32)\n",
      "Epoch 85: Tensor(\"truediv_85:0\", dtype=float32)\n",
      "Epoch 86: Tensor(\"truediv_86:0\", dtype=float32)\n",
      "Epoch 87: Tensor(\"truediv_87:0\", dtype=float32)\n",
      "Epoch 88: Tensor(\"truediv_88:0\", dtype=float32)\n",
      "Epoch 89: Tensor(\"truediv_89:0\", dtype=float32)\n",
      "Epoch 90: Tensor(\"truediv_90:0\", dtype=float32)\n",
      "Epoch 91: Tensor(\"truediv_91:0\", dtype=float32)\n",
      "Epoch 92: Tensor(\"truediv_92:0\", dtype=float32)\n",
      "Epoch 93: Tensor(\"truediv_93:0\", dtype=float32)\n",
      "Epoch 94: Tensor(\"truediv_94:0\", dtype=float32)\n",
      "Epoch 95: Tensor(\"truediv_95:0\", dtype=float32)\n",
      "Epoch 96: Tensor(\"truediv_96:0\", dtype=float32)\n",
      "Epoch 97: Tensor(\"truediv_97:0\", dtype=float32)\n",
      "Epoch 98: Tensor(\"truediv_98:0\", dtype=float32)\n",
      "Epoch 99: Tensor(\"truediv_99:0\", dtype=float32)\n",
      "Took: 1934.063079 seconds\n"
     ]
    }
   ],
   "source": [
    "# Step 2: create placeholders for X (birth rate) and Y (life expectancy)\n",
    "# Remember both X and Y are scalars with type float\n",
    "X = tf.placeholder(dtype = tf.float32, name = \"X\")\n",
    "Y = tf.placeholder(dtype = tf.float32, name = \"Y\")\n",
    "\n",
    "# Step 3: create weight and bias, initialized to 0.0\n",
    "# Make sure to use tf.get_variable\n",
    "w = tf.Variable(initial_value=0.0)\n",
    "b = tf.Variable(initial_value=0.0)\n",
    "\n",
    "# Step 4: build model to predict Y\n",
    "# e.g. how would you derive at Y_predicted given X, w, and b\n",
    "Y_predicted = X * w + b\n",
    "\n",
    "# Step 5: use the square error as the loss function\n",
    "loss = tf.square(Y - Y_predicted, name = \"loss\")\n",
    "\n",
    "# Step 6: using gradient descent with learning rate of 0.001 to minimize loss\n",
    "optimizer = tf.train.GradientDescentOptimizer(learning_rate=0.001).minimize(loss)\n",
    "\n",
    "start = time.time()\n",
    "\n",
    "# Create a filewriter to write the model's graph to TensorBoard\n",
    "\n",
    "\n",
    "with tf.Session() as sess:\n",
    "    # Step 7: initialize the necessary variables, in this case, w and b\n",
    "    sess.run(tf.global_variables_initializer())\n",
    "    \n",
    "    # Step 8: train the model for 100 epochs\n",
    "    for i in range(100):\n",
    "        total_loss = 0\n",
    "        for x, y in data:\n",
    "            # Execute train_op and get the value of loss.\n",
    "            # Don't forget to feed in data for placeholders\n",
    "            sess.run(optimizer, feed_dict = {X:x, Y:y})\n",
    "            total_loss += loss\n",
    "\n",
    "        print('Epoch {0}: {1}'.format(i, total_loss/n_samples))\n",
    "\n",
    "    # close the writer when you're done using it\n",
    "    writer = tf.summary.FileWriter('./graphs', sess.graph)\n",
    "    writer.close()\n",
    "    \n",
    "    # Step 9: output the values of w and b\n",
    "    w_out = sess.run(w)\n",
    "    b_out = sess.run(b)\n",
    "\n",
    "print('Took: %f seconds' %(time.time() - start))"
   ]
  },
  {
   "cell_type": "code",
   "execution_count": 34,
   "metadata": {},
   "outputs": [
    {
     "data": {
      "text/plain": [
       "-6.0702143"
      ]
     },
     "execution_count": 34,
     "metadata": {},
     "output_type": "execute_result"
    }
   ],
   "source": [
    "w_out"
   ]
  },
  {
   "cell_type": "code",
   "execution_count": 35,
   "metadata": {},
   "outputs": [
    {
     "data": {
      "text/plain": [
       "84.929512"
      ]
     },
     "execution_count": 35,
     "metadata": {},
     "output_type": "execute_result"
    }
   ],
   "source": [
    "b_out"
   ]
  },
  {
   "cell_type": "code",
   "execution_count": 38,
   "metadata": {
    "scrolled": true
   },
   "outputs": [
    {
     "data": {
      "image/png": "[encoded data removed]",
      "text/plain": [
       "<matplotlib.figure.Figure at 0x2523fcf8>"
      ]
     },
     "metadata": {},
     "output_type": "display_data"
    }
   ],
   "source": [
    "# uncomment the following lines to see the plot \n",
    "plt.plot(data[:,0], data[:,1], 'bo', label='Real data')\n",
    "plt.plot(data[:,0], data[:,0] * w_out + b_out, 'r', label='Predicted data')\n",
    "plt.legend()\n",
    "plt.show()"
   ]
  },
  {
   "cell_type": "markdown",
   "metadata": {},
   "source": [
    "###### Use tf.data "
   ]
  },
  {
   "cell_type": "code",
   "execution_count": 39,
   "metadata": {},
   "outputs": [
    {
     "name": "stdout",
     "output_type": "stream",
     "text": [
      "()\n"
     ]
    }
   ],
   "source": [
    "# 測試tf內建的data讀取\n",
    "dataset = tf.data.TextLineDataset(DATA_FILE)\n",
    "print(dataset.output_shapes)\n",
    "# dataset = tf.data.FixedLengthRecordDataset(DATA_FILE)"
   ]
  },
  {
   "cell_type": "code",
   "execution_count": 40,
   "metadata": {},
   "outputs": [
    {
     "data": {
      "text/plain": [
       "tensorflow.python.data.ops.readers.TextLineDataset"
      ]
     },
     "execution_count": 40,
     "metadata": {},
     "output_type": "execute_result"
    }
   ],
   "source": [
    "type(dataset)"
   ]
  },
  {
   "cell_type": "code",
   "execution_count": 41,
   "metadata": {},
   "outputs": [
    {
     "ename": "TypeError",
     "evalue": "'Tensor' object is not iterable.",
     "output_type": "error",
     "traceback": [
      "\u001b[1;31m---------------------------------------------------------------------------\u001b[0m",
      "\u001b[1;31mTypeError\u001b[0m                                 Traceback (most recent call last)",
      "\u001b[1;32m<ipython-input-41-266b22b02906>\u001b[0m in \u001b[0;36m<module>\u001b[1;34m()\u001b[0m\n\u001b[0;32m      1\u001b[0m \u001b[1;31m# 用iterator的get_next()取出每個row的資料\u001b[0m\u001b[1;33m\u001b[0m\u001b[1;33m\u001b[0m\u001b[0m\n\u001b[0;32m      2\u001b[0m \u001b[0miterator\u001b[0m \u001b[1;33m=\u001b[0m \u001b[0mdataset\u001b[0m\u001b[1;33m.\u001b[0m\u001b[0mmake_one_shot_iterator\u001b[0m\u001b[1;33m(\u001b[0m\u001b[1;33m)\u001b[0m\u001b[1;33m\u001b[0m\u001b[0m\n\u001b[1;32m----> 3\u001b[1;33m \u001b[0mX\u001b[0m\u001b[1;33m,\u001b[0m \u001b[0mY\u001b[0m \u001b[1;33m=\u001b[0m \u001b[0miterator\u001b[0m\u001b[1;33m.\u001b[0m\u001b[0mget_next\u001b[0m\u001b[1;33m(\u001b[0m\u001b[1;33m)\u001b[0m\u001b[1;33m\u001b[0m\u001b[0m\n\u001b[0m",
      "\u001b[1;32m~\\AppData\\Local\\Continuum\\anaconda3\\lib\\site-packages\\tensorflow\\python\\framework\\ops.py\u001b[0m in \u001b[0;36m__iter__\u001b[1;34m(self)\u001b[0m\n\u001b[0;32m    503\u001b[0m       \u001b[0mTypeError\u001b[0m\u001b[1;33m:\u001b[0m \u001b[0mwhen\u001b[0m \u001b[0minvoked\u001b[0m\u001b[1;33m.\u001b[0m\u001b[1;33m\u001b[0m\u001b[0m\n\u001b[0;32m    504\u001b[0m     \"\"\"\n\u001b[1;32m--> 505\u001b[1;33m     \u001b[1;32mraise\u001b[0m \u001b[0mTypeError\u001b[0m\u001b[1;33m(\u001b[0m\u001b[1;34m\"'Tensor' object is not iterable.\"\u001b[0m\u001b[1;33m)\u001b[0m\u001b[1;33m\u001b[0m\u001b[0m\n\u001b[0m\u001b[0;32m    506\u001b[0m \u001b[1;33m\u001b[0m\u001b[0m\n\u001b[0;32m    507\u001b[0m   \u001b[1;32mdef\u001b[0m \u001b[0m__bool__\u001b[0m\u001b[1;33m(\u001b[0m\u001b[0mself\u001b[0m\u001b[1;33m)\u001b[0m\u001b[1;33m:\u001b[0m\u001b[1;33m\u001b[0m\u001b[0m\n",
      "\u001b[1;31mTypeError\u001b[0m: 'Tensor' object is not iterable."
     ]
    }
   ],
   "source": [
    "# 用iterator的get_next()取出每個row的資料\n",
    "iterator = dataset.make_one_shot_iterator()\n",
    "X, Y = iterator.get_next()"
   ]
  },
  {
   "cell_type": "code",
   "execution_count": 42,
   "metadata": {
    "scrolled": true
   },
   "outputs": [
    {
     "name": "stdout",
     "output_type": "stream",
     "text": [
      "tensorflow==1.4.0\n",
      "tensorflow-tensorboard==0.4.0rc3\n"
     ]
    }
   ],
   "source": [
    "# 檢查一下tf的version\n",
    "!pip freeze | grep tensorflow"
   ]
  },
  {
   "cell_type": "code",
   "execution_count": 43,
   "metadata": {
    "collapsed": true
   },
   "outputs": [],
   "source": [
    "# tf.data.TextLineDataset好像不太work，可能是版本問題，那就直接接上原本的讀取格式\n",
    "# data是用python的open function讀取的\n",
    "dataset = tf.data.Dataset.from_tensor_slices(( data[:, 0 ], data[:, 1 ]))"
   ]
  },
  {
   "cell_type": "code",
   "execution_count": 44,
   "metadata": {
    "collapsed": true
   },
   "outputs": [],
   "source": [
    "# 看看是否可以順利讀取\n",
    "iterator = dataset.make_one_shot_iterator()\n",
    "X, Y = iterator.get_next()"
   ]
  },
  {
   "cell_type": "code",
   "execution_count": 45,
   "metadata": {},
   "outputs": [
    {
     "name": "stdout",
     "output_type": "stream",
     "text": [
      "[1.822, 74.828247]\n",
      "[3.869, 70.819489]\n",
      "[3.911, 72.150658]\n"
     ]
    }
   ],
   "source": [
    "with tf.Session () as sess:\n",
    "    print ( sess.run ([ X , Y ])) # >> [1.822, 74.82825]\n",
    "    print ( sess.run ([ X , Y ])) # >> [3.869, 70.81949]\n",
    "    print ( sess.run ([ X , Y ])) # >> [3.911, 72.15066]"
   ]
  },
  {
   "cell_type": "code",
   "execution_count": 46,
   "metadata": {},
   "outputs": [
    {
     "name": "stdout",
     "output_type": "stream",
     "text": [
      "[1.822, 74.828247]\n",
      "[3.869, 70.819489]\n",
      "[3.911, 72.150658]\n"
     ]
    }
   ],
   "source": [
    "# 一個 with block 就是一個獨立的 session\n",
    "with tf.Session () as sess:\n",
    "    print ( sess.run ([ X , Y ])) # >> [1.822, 74.82825]\n",
    "    print ( sess.run ([ X , Y ])) # >> [3.869, 70.81949]\n",
    "    print ( sess.run ([ X , Y ])) # >> [3.911, 72.15066]"
   ]
  },
  {
   "cell_type": "code",
   "execution_count": 49,
   "metadata": {},
   "outputs": [
    {
     "ename": "FailedPreconditionError",
     "evalue": "Attempting to use uninitialized value Variable\n\t [[Node: _retval_Variable_0_0 = _Retval[T=DT_FLOAT, index=0, _device=\"/job:localhost/replica:0/task:0/device:CPU:0\"](Variable)]]",
     "output_type": "error",
     "traceback": [
      "\u001b[1;31m---------------------------------------------------------------------------\u001b[0m",
      "\u001b[1;31mFailedPreconditionError\u001b[0m                   Traceback (most recent call last)",
      "\u001b[1;32m~\\AppData\\Local\\Continuum\\anaconda3\\lib\\site-packages\\tensorflow\\python\\client\\session.py\u001b[0m in \u001b[0;36m_do_call\u001b[1;34m(self, fn, *args)\u001b[0m\n\u001b[0;32m   1322\u001b[0m     \u001b[1;32mtry\u001b[0m\u001b[1;33m:\u001b[0m\u001b[1;33m\u001b[0m\u001b[0m\n\u001b[1;32m-> 1323\u001b[1;33m       \u001b[1;32mreturn\u001b[0m \u001b[0mfn\u001b[0m\u001b[1;33m(\u001b[0m\u001b[1;33m*\u001b[0m\u001b[0margs\u001b[0m\u001b[1;33m)\u001b[0m\u001b[1;33m\u001b[0m\u001b[0m\n\u001b[0m\u001b[0;32m   1324\u001b[0m     \u001b[1;32mexcept\u001b[0m \u001b[0merrors\u001b[0m\u001b[1;33m.\u001b[0m\u001b[0mOpError\u001b[0m \u001b[1;32mas\u001b[0m \u001b[0me\u001b[0m\u001b[1;33m:\u001b[0m\u001b[1;33m\u001b[0m\u001b[0m\n",
      "\u001b[1;32m~\\AppData\\Local\\Continuum\\anaconda3\\lib\\site-packages\\tensorflow\\python\\client\\session.py\u001b[0m in \u001b[0;36m_run_fn\u001b[1;34m(session, feed_dict, fetch_list, target_list, options, run_metadata)\u001b[0m\n\u001b[0;32m   1301\u001b[0m                                    \u001b[0mfeed_dict\u001b[0m\u001b[1;33m,\u001b[0m \u001b[0mfetch_list\u001b[0m\u001b[1;33m,\u001b[0m \u001b[0mtarget_list\u001b[0m\u001b[1;33m,\u001b[0m\u001b[1;33m\u001b[0m\u001b[0m\n\u001b[1;32m-> 1302\u001b[1;33m                                    status, run_metadata)\n\u001b[0m\u001b[0;32m   1303\u001b[0m \u001b[1;33m\u001b[0m\u001b[0m\n",
      "\u001b[1;32m~\\AppData\\Local\\Continuum\\anaconda3\\lib\\site-packages\\tensorflow\\python\\framework\\errors_impl.py\u001b[0m in \u001b[0;36m__exit__\u001b[1;34m(self, type_arg, value_arg, traceback_arg)\u001b[0m\n\u001b[0;32m    472\u001b[0m             \u001b[0mcompat\u001b[0m\u001b[1;33m.\u001b[0m\u001b[0mas_text\u001b[0m\u001b[1;33m(\u001b[0m\u001b[0mc_api\u001b[0m\u001b[1;33m.\u001b[0m\u001b[0mTF_Message\u001b[0m\u001b[1;33m(\u001b[0m\u001b[0mself\u001b[0m\u001b[1;33m.\u001b[0m\u001b[0mstatus\u001b[0m\u001b[1;33m.\u001b[0m\u001b[0mstatus\u001b[0m\u001b[1;33m)\u001b[0m\u001b[1;33m)\u001b[0m\u001b[1;33m,\u001b[0m\u001b[1;33m\u001b[0m\u001b[0m\n\u001b[1;32m--> 473\u001b[1;33m             c_api.TF_GetCode(self.status.status))\n\u001b[0m\u001b[0;32m    474\u001b[0m     \u001b[1;31m# Delete the underlying status object from memory otherwise it stays alive\u001b[0m\u001b[1;33m\u001b[0m\u001b[1;33m\u001b[0m\u001b[0m\n",
      "\u001b[1;31mFailedPreconditionError\u001b[0m: Attempting to use uninitialized value Variable\n\t [[Node: _retval_Variable_0_0 = _Retval[T=DT_FLOAT, index=0, _device=\"/job:localhost/replica:0/task:0/device:CPU:0\"](Variable)]]",
      "\nDuring handling of the above exception, another exception occurred:\n",
      "\u001b[1;31mFailedPreconditionError\u001b[0m                   Traceback (most recent call last)",
      "\u001b[1;32m<ipython-input-49-f126c1efa1e9>\u001b[0m in \u001b[0;36m<module>\u001b[1;34m()\u001b[0m\n\u001b[0;32m      1\u001b[0m \u001b[1;31m# 不過 Variables 是要重新初始化的\u001b[0m\u001b[1;33m\u001b[0m\u001b[1;33m\u001b[0m\u001b[0m\n\u001b[0;32m      2\u001b[0m \u001b[1;32mwith\u001b[0m \u001b[0mtf\u001b[0m\u001b[1;33m.\u001b[0m\u001b[0mSession\u001b[0m\u001b[1;33m(\u001b[0m\u001b[1;33m)\u001b[0m \u001b[1;32mas\u001b[0m \u001b[0msess\u001b[0m\u001b[1;33m:\u001b[0m\u001b[1;33m\u001b[0m\u001b[0m\n\u001b[1;32m----> 3\u001b[1;33m     \u001b[0mprint\u001b[0m\u001b[1;33m(\u001b[0m\u001b[0msess\u001b[0m\u001b[1;33m.\u001b[0m\u001b[0mrun\u001b[0m\u001b[1;33m(\u001b[0m\u001b[0mw\u001b[0m\u001b[1;33m)\u001b[0m\u001b[1;33m)\u001b[0m\u001b[1;33m\u001b[0m\u001b[0m\n\u001b[0m\u001b[0;32m      4\u001b[0m     \u001b[0mprint\u001b[0m\u001b[1;33m(\u001b[0m\u001b[0msess\u001b[0m\u001b[1;33m.\u001b[0m\u001b[0mrun\u001b[0m\u001b[1;33m(\u001b[0m\u001b[0mb\u001b[0m\u001b[1;33m)\u001b[0m\u001b[1;33m)\u001b[0m\u001b[1;33m\u001b[0m\u001b[0m\n",
      "\u001b[1;32m~\\AppData\\Local\\Continuum\\anaconda3\\lib\\site-packages\\tensorflow\\python\\client\\session.py\u001b[0m in \u001b[0;36mrun\u001b[1;34m(self, fetches, feed_dict, options, run_metadata)\u001b[0m\n\u001b[0;32m    887\u001b[0m     \u001b[1;32mtry\u001b[0m\u001b[1;33m:\u001b[0m\u001b[1;33m\u001b[0m\u001b[0m\n\u001b[0;32m    888\u001b[0m       result = self._run(None, fetches, feed_dict, options_ptr,\n\u001b[1;32m--> 889\u001b[1;33m                          run_metadata_ptr)\n\u001b[0m\u001b[0;32m    890\u001b[0m       \u001b[1;32mif\u001b[0m \u001b[0mrun_metadata\u001b[0m\u001b[1;33m:\u001b[0m\u001b[1;33m\u001b[0m\u001b[0m\n\u001b[0;32m    891\u001b[0m         \u001b[0mproto_data\u001b[0m \u001b[1;33m=\u001b[0m \u001b[0mtf_session\u001b[0m\u001b[1;33m.\u001b[0m\u001b[0mTF_GetBuffer\u001b[0m\u001b[1;33m(\u001b[0m\u001b[0mrun_metadata_ptr\u001b[0m\u001b[1;33m)\u001b[0m\u001b[1;33m\u001b[0m\u001b[0m\n",
      "\u001b[1;32m~\\AppData\\Local\\Continuum\\anaconda3\\lib\\site-packages\\tensorflow\\python\\client\\session.py\u001b[0m in \u001b[0;36m_run\u001b[1;34m(self, handle, fetches, feed_dict, options, run_metadata)\u001b[0m\n\u001b[0;32m   1118\u001b[0m     \u001b[1;32mif\u001b[0m \u001b[0mfinal_fetches\u001b[0m \u001b[1;32mor\u001b[0m \u001b[0mfinal_targets\u001b[0m \u001b[1;32mor\u001b[0m \u001b[1;33m(\u001b[0m\u001b[0mhandle\u001b[0m \u001b[1;32mand\u001b[0m \u001b[0mfeed_dict_tensor\u001b[0m\u001b[1;33m)\u001b[0m\u001b[1;33m:\u001b[0m\u001b[1;33m\u001b[0m\u001b[0m\n\u001b[0;32m   1119\u001b[0m       results = self._do_run(handle, final_targets, final_fetches,\n\u001b[1;32m-> 1120\u001b[1;33m                              feed_dict_tensor, options, run_metadata)\n\u001b[0m\u001b[0;32m   1121\u001b[0m     \u001b[1;32melse\u001b[0m\u001b[1;33m:\u001b[0m\u001b[1;33m\u001b[0m\u001b[0m\n\u001b[0;32m   1122\u001b[0m       \u001b[0mresults\u001b[0m \u001b[1;33m=\u001b[0m \u001b[1;33m[\u001b[0m\u001b[1;33m]\u001b[0m\u001b[1;33m\u001b[0m\u001b[0m\n",
      "\u001b[1;32m~\\AppData\\Local\\Continuum\\anaconda3\\lib\\site-packages\\tensorflow\\python\\client\\session.py\u001b[0m in \u001b[0;36m_do_run\u001b[1;34m(self, handle, target_list, fetch_list, feed_dict, options, run_metadata)\u001b[0m\n\u001b[0;32m   1315\u001b[0m     \u001b[1;32mif\u001b[0m \u001b[0mhandle\u001b[0m \u001b[1;32mis\u001b[0m \u001b[1;32mNone\u001b[0m\u001b[1;33m:\u001b[0m\u001b[1;33m\u001b[0m\u001b[0m\n\u001b[0;32m   1316\u001b[0m       return self._do_call(_run_fn, self._session, feeds, fetches, targets,\n\u001b[1;32m-> 1317\u001b[1;33m                            options, run_metadata)\n\u001b[0m\u001b[0;32m   1318\u001b[0m     \u001b[1;32melse\u001b[0m\u001b[1;33m:\u001b[0m\u001b[1;33m\u001b[0m\u001b[0m\n\u001b[0;32m   1319\u001b[0m       \u001b[1;32mreturn\u001b[0m \u001b[0mself\u001b[0m\u001b[1;33m.\u001b[0m\u001b[0m_do_call\u001b[0m\u001b[1;33m(\u001b[0m\u001b[0m_prun_fn\u001b[0m\u001b[1;33m,\u001b[0m \u001b[0mself\u001b[0m\u001b[1;33m.\u001b[0m\u001b[0m_session\u001b[0m\u001b[1;33m,\u001b[0m \u001b[0mhandle\u001b[0m\u001b[1;33m,\u001b[0m \u001b[0mfeeds\u001b[0m\u001b[1;33m,\u001b[0m \u001b[0mfetches\u001b[0m\u001b[1;33m)\u001b[0m\u001b[1;33m\u001b[0m\u001b[0m\n",
      "\u001b[1;32m~\\AppData\\Local\\Continuum\\anaconda3\\lib\\site-packages\\tensorflow\\python\\client\\session.py\u001b[0m in \u001b[0;36m_do_call\u001b[1;34m(self, fn, *args)\u001b[0m\n\u001b[0;32m   1334\u001b[0m         \u001b[1;32mexcept\u001b[0m \u001b[0mKeyError\u001b[0m\u001b[1;33m:\u001b[0m\u001b[1;33m\u001b[0m\u001b[0m\n\u001b[0;32m   1335\u001b[0m           \u001b[1;32mpass\u001b[0m\u001b[1;33m\u001b[0m\u001b[0m\n\u001b[1;32m-> 1336\u001b[1;33m       \u001b[1;32mraise\u001b[0m \u001b[0mtype\u001b[0m\u001b[1;33m(\u001b[0m\u001b[0me\u001b[0m\u001b[1;33m)\u001b[0m\u001b[1;33m(\u001b[0m\u001b[0mnode_def\u001b[0m\u001b[1;33m,\u001b[0m \u001b[0mop\u001b[0m\u001b[1;33m,\u001b[0m \u001b[0mmessage\u001b[0m\u001b[1;33m)\u001b[0m\u001b[1;33m\u001b[0m\u001b[0m\n\u001b[0m\u001b[0;32m   1337\u001b[0m \u001b[1;33m\u001b[0m\u001b[0m\n\u001b[0;32m   1338\u001b[0m   \u001b[1;32mdef\u001b[0m \u001b[0m_extend_graph\u001b[0m\u001b[1;33m(\u001b[0m\u001b[0mself\u001b[0m\u001b[1;33m)\u001b[0m\u001b[1;33m:\u001b[0m\u001b[1;33m\u001b[0m\u001b[0m\n",
      "\u001b[1;31mFailedPreconditionError\u001b[0m: Attempting to use uninitialized value Variable\n\t [[Node: _retval_Variable_0_0 = _Retval[T=DT_FLOAT, index=0, _device=\"/job:localhost/replica:0/task:0/device:CPU:0\"](Variable)]]"
     ]
    }
   ],
   "source": [
    "# 不過 Variables 是要重新初始化的\n",
    "with tf.Session() as sess:\n",
    "    print(sess.run(w))\n",
    "    print(sess.run(b))"
   ]
  },
  {
   "cell_type": "code",
   "execution_count": 50,
   "metadata": {
    "collapsed": true
   },
   "outputs": [],
   "source": [
    "### define huber loss, to against to outliers \n",
    "def huber_loss ( labels , predictions , delta = 14.0 ):\n",
    "    residual = tf . abs ( labels - predictions)\n",
    "    def f1 (): return 0.5 * tf . square ( residual)\n",
    "    def f2 (): return delta * residual - 0.5 * tf . square ( delta)\n",
    "    return tf . cond ( residual < delta , f1 , f2)"
   ]
  },
  {
   "cell_type": "code",
   "execution_count": 54,
   "metadata": {},
   "outputs": [],
   "source": [
    "# 套一下 huber loss\n",
    "loss = tf.square( huber_loss(labels = Y, predictions = Y_predicted), name = \"loss\")\n",
    "optimizer = tf.train.GradientDescentOptimizer( learning_rate = 0.001 ).minimize(loss)"
   ]
  },
  {
   "cell_type": "code",
   "execution_count": 80,
   "metadata": {},
   "outputs": [
    {
     "name": "stdout",
     "output_type": "stream",
     "text": [
      "Epoch 0\n",
      "Epoch 0: 712.5349932218853\n",
      "Epoch 1\n",
      "Epoch 1: 0.0\n",
      "Epoch 2\n",
      "Epoch 2: 0.0\n",
      "Epoch 3\n",
      "Epoch 3: 0.0\n",
      "Epoch 4\n",
      "Epoch 4: 0.0\n",
      "Epoch 5\n",
      "Epoch 5: 0.0\n",
      "Epoch 6\n",
      "Epoch 6: 0.0\n",
      "Epoch 7\n",
      "Epoch 7: 0.0\n",
      "Epoch 8\n",
      "Epoch 8: 0.0\n",
      "Epoch 9\n",
      "Epoch 9: 0.0\n",
      "Epoch 10\n",
      "Epoch 10: 0.0\n",
      "Epoch 11\n",
      "Epoch 11: 0.0\n",
      "Epoch 12\n",
      "Epoch 12: 0.0\n",
      "Epoch 13\n",
      "Epoch 13: 0.0\n",
      "Epoch 14\n",
      "Epoch 14: 0.0\n",
      "Epoch 15\n",
      "Epoch 15: 0.0\n",
      "Epoch 16\n",
      "Epoch 16: 0.0\n",
      "Epoch 17\n",
      "Epoch 17: 0.0\n",
      "Epoch 18\n",
      "Epoch 18: 0.0\n",
      "Epoch 19\n",
      "Epoch 19: 0.0\n",
      "Epoch 20\n",
      "Epoch 20: 0.0\n",
      "Epoch 21\n",
      "Epoch 21: 0.0\n",
      "Epoch 22\n",
      "Epoch 22: 0.0\n",
      "Epoch 23\n",
      "Epoch 23: 0.0\n",
      "Epoch 24\n",
      "Epoch 24: 0.0\n",
      "Epoch 25\n",
      "Epoch 25: 0.0\n",
      "Epoch 26\n",
      "Epoch 26: 0.0\n",
      "Epoch 27\n",
      "Epoch 27: 0.0\n",
      "Epoch 28\n",
      "Epoch 28: 0.0\n",
      "Epoch 29\n",
      "Epoch 29: 0.0\n",
      "Epoch 30\n",
      "Epoch 30: 0.0\n",
      "Epoch 31\n",
      "Epoch 31: 0.0\n",
      "Epoch 32\n",
      "Epoch 32: 0.0\n",
      "Epoch 33\n",
      "Epoch 33: 0.0\n",
      "Epoch 34\n",
      "Epoch 34: 0.0\n",
      "Epoch 35\n",
      "Epoch 35: 0.0\n",
      "Epoch 36\n",
      "Epoch 36: 0.0\n",
      "Epoch 37\n",
      "Epoch 37: 0.0\n",
      "Epoch 38\n",
      "Epoch 38: 0.0\n",
      "Epoch 39\n",
      "Epoch 39: 0.0\n",
      "Epoch 40\n",
      "Epoch 40: 0.0\n",
      "Epoch 41\n",
      "Epoch 41: 0.0\n",
      "Epoch 42\n",
      "Epoch 42: 0.0\n",
      "Epoch 43\n",
      "Epoch 43: 0.0\n",
      "Epoch 44\n",
      "Epoch 44: 0.0\n",
      "Epoch 45\n",
      "Epoch 45: 0.0\n",
      "Epoch 46\n",
      "Epoch 46: 0.0\n",
      "Epoch 47\n",
      "Epoch 47: 0.0\n",
      "Epoch 48\n",
      "Epoch 48: 0.0\n",
      "Epoch 49\n",
      "Epoch 49: 0.0\n",
      "Epoch 50\n",
      "Epoch 50: 0.0\n",
      "Epoch 51\n",
      "Epoch 51: 0.0\n",
      "Epoch 52\n",
      "Epoch 52: 0.0\n",
      "Epoch 53\n",
      "Epoch 53: 0.0\n",
      "Epoch 54\n",
      "Epoch 54: 0.0\n",
      "Epoch 55\n",
      "Epoch 55: 0.0\n",
      "Epoch 56\n",
      "Epoch 56: 0.0\n",
      "Epoch 57\n",
      "Epoch 57: 0.0\n",
      "Epoch 58\n",
      "Epoch 58: 0.0\n",
      "Epoch 59\n",
      "Epoch 59: 0.0\n",
      "Epoch 60\n",
      "Epoch 60: 0.0\n",
      "Epoch 61\n",
      "Epoch 61: 0.0\n",
      "Epoch 62\n",
      "Epoch 62: 0.0\n",
      "Epoch 63\n",
      "Epoch 63: 0.0\n",
      "Epoch 64\n",
      "Epoch 64: 0.0\n",
      "Epoch 65\n",
      "Epoch 65: 0.0\n",
      "Epoch 66\n",
      "Epoch 66: 0.0\n",
      "Epoch 67\n",
      "Epoch 67: 0.0\n",
      "Epoch 68\n",
      "Epoch 68: 0.0\n",
      "Epoch 69\n",
      "Epoch 69: 0.0\n",
      "Epoch 70\n",
      "Epoch 70: 0.0\n",
      "Epoch 71\n",
      "Epoch 71: 0.0\n",
      "Epoch 72\n",
      "Epoch 72: 0.0\n",
      "Epoch 73\n",
      "Epoch 73: 0.0\n",
      "Epoch 74\n",
      "Epoch 74: 0.0\n",
      "Epoch 75\n",
      "Epoch 75: 0.0\n",
      "Epoch 76\n",
      "Epoch 76: 0.0\n",
      "Epoch 77\n",
      "Epoch 77: 0.0\n",
      "Epoch 78\n",
      "Epoch 78: 0.0\n",
      "Epoch 79\n",
      "Epoch 79: 0.0\n",
      "Epoch 80\n",
      "Epoch 80: 0.0\n",
      "Epoch 81\n",
      "Epoch 81: 0.0\n",
      "Epoch 82\n",
      "Epoch 82: 0.0\n",
      "Epoch 83\n",
      "Epoch 83: 0.0\n",
      "Epoch 84\n",
      "Epoch 84: 0.0\n",
      "Epoch 85\n",
      "Epoch 85: 0.0\n",
      "Epoch 86\n",
      "Epoch 86: 0.0\n",
      "Epoch 87\n",
      "Epoch 87: 0.0\n",
      "Epoch 88\n",
      "Epoch 88: 0.0\n",
      "Epoch 89\n",
      "Epoch 89: 0.0\n",
      "Epoch 90\n",
      "Epoch 90: 0.0\n",
      "Epoch 91\n",
      "Epoch 91: 0.0\n",
      "Epoch 92\n",
      "Epoch 92: 0.0\n",
      "Epoch 93\n",
      "Epoch 93: 0.0\n",
      "Epoch 94\n",
      "Epoch 94: 0.0\n",
      "Epoch 95\n",
      "Epoch 95: 0.0\n",
      "Epoch 96\n",
      "Epoch 96: 0.0\n",
      "Epoch 97\n",
      "Epoch 97: 0.0\n",
      "Epoch 98\n",
      "Epoch 98: 0.0\n",
      "Epoch 99\n",
      "Epoch 99: 0.0\n",
      "w: 7.322529, b: 2.631816\n",
      "Toooooooook: 2.629000 seconds\n"
     ]
    }
   ],
   "source": [
    "# 跑 iterator 的 make_one_shot_iterator()\n",
    "iterator = dataset.make_one_shot_iterator()\n",
    "X, Y = iterator.get_next()\n",
    "\n",
    "w = tf.Variable(initial_value=0.0)\n",
    "b = tf.Variable(initial_value=0.0)\n",
    "Y_predicted = X * w + b\n",
    "\n",
    "loss = huber_loss(labels = Y, predictions = Y_predicted)\n",
    "optimizer = tf.train.GradientDescentOptimizer(learning_rate=0.001).minimize(loss)\n",
    "\n",
    "start = time.time()\n",
    "with tf.Session() as sess:\n",
    "    sess.run(tf.global_variables_initializer())\n",
    "    for i in range(100):\n",
    "        print('Epoch {}'.format(i))\n",
    "        total_loss = 0\n",
    "        try:\n",
    "            while True:\n",
    "#                 x, y = sess.run([X,Y])\n",
    "#                 print(\"{} {} \\n\".format(x,y))\n",
    "                _, l = sess.run([optimizer, loss])\n",
    "                total_loss += l\n",
    "        except tf.errors.OutOfRangeError: #因為iterator沒有停止的機制\n",
    "            pass\n",
    "        print(\"Epoch {}: {}\".format(i, total_loss/n_samples))\n",
    "    w_hub = sess.run(w)\n",
    "    b_hub = sess.run(b)\n",
    "    print(\"w: %f, b: %f\"%(w_hub, b_hub))\n",
    "print('Toooooooook: %f seconds' %(time.time() - start))"
   ]
  },
  {
   "cell_type": "code",
   "execution_count": 82,
   "metadata": {
    "scrolled": true
   },
   "outputs": [
    {
     "name": "stdout",
     "output_type": "stream",
     "text": [
      "Epoch 0: 712.5349932218853\n",
      "Epoch 1: 480.1768338768106\n",
      "Epoch 2: 411.27837095009653\n",
      "Epoch 3: 381.143803016763\n",
      "Epoch 4: 363.96519568942387\n",
      "Epoch 5: 352.0028216342001\n",
      "Epoch 6: 342.65910039112754\n",
      "Epoch 7: 334.84100784196664\n",
      "Epoch 8: 327.9518736341282\n",
      "Epoch 9: 321.63482000235666\n",
      "Epoch 10: 315.6941960449968\n",
      "Epoch 11: 310.0039571509844\n",
      "Epoch 12: 304.4644903231608\n",
      "Epoch 13: 299.0284345306064\n",
      "Epoch 14: 293.6694770147926\n",
      "Epoch 15: 288.3639233997778\n",
      "Epoch 16: 283.0933333819634\n",
      "Epoch 17: 277.85644171355585\n",
      "Epoch 18: 272.6439291345446\n",
      "Epoch 19: 267.44677355952166\n",
      "Epoch 20: 262.2604390375855\n",
      "Epoch 21: 257.0869516860634\n",
      "Epoch 22: 251.93409620844758\n",
      "Epoch 23: 246.7978311511443\n",
      "Epoch 24: 241.68042829000441\n",
      "Epoch 25: 236.58249802497158\n",
      "Epoch 26: 231.50381602431207\n",
      "Epoch 27: 226.4469073355737\n",
      "Epoch 28: 221.41355832310785\n",
      "Epoch 29: 216.40122747868298\n",
      "Epoch 30: 211.41857506291646\n",
      "Epoch 31: 206.4636872577824\n",
      "Epoch 32: 201.5256608824981\n",
      "Epoch 33: 196.60663773480215\n",
      "Epoch 34: 191.69949661995236\n",
      "Epoch 35: 186.81957386904642\n",
      "Epoch 36: 181.97026195526124\n",
      "Epoch 37: 177.15822704340283\n",
      "Epoch 38: 172.36515824982993\n",
      "Epoch 39: 167.59127469086334\n",
      "Epoch 40: 162.8461132945983\n",
      "Epoch 41: 158.1302945310348\n",
      "Epoch 42: 153.4446832491379\n",
      "Epoch 43: 148.78938361339664\n",
      "Epoch 44: 144.17467782383687\n",
      "Epoch 45: 139.59350521709572\n",
      "Epoch 46: 135.0799269277359\n",
      "Epoch 47: 130.61376950433967\n",
      "Epoch 48: 126.20577719486073\n",
      "Epoch 49: 121.83948346442224\n",
      "Epoch 50: 117.53008066379407\n",
      "Epoch 51: 113.27451417348163\n",
      "Epoch 52: 109.09293648436372\n",
      "Epoch 53: 104.98878251981422\n",
      "Epoch 54: 100.96831291019916\n",
      "Epoch 55: 97.04090007381073\n",
      "Epoch 56: 93.20598697668848\n",
      "Epoch 57: 89.44805010246407\n",
      "Epoch 58: 85.79511913707185\n",
      "Epoch 59: 82.24485294783587\n",
      "Epoch 60: 78.81007368673913\n",
      "Epoch 61: 75.46468300612055\n",
      "Epoch 62: 72.22824628802114\n",
      "Epoch 63: 69.0970203716504\n",
      "Epoch 64: 66.07316139007085\n",
      "Epoch 65: 63.17249699153364\n",
      "Epoch 66: 60.39144998395717\n",
      "Epoch 67: 57.732441508548185\n",
      "Epoch 68: 55.18886458672289\n",
      "Epoch 69: 52.765521257783064\n",
      "Epoch 70: 50.44132069787501\n",
      "Epoch 71: 48.232464265970414\n",
      "Epoch 72: 46.147971851262916\n",
      "Epoch 73: 44.156567127835984\n",
      "Epoch 74: 42.26910537076428\n",
      "Epoch 75: 40.4945643139905\n",
      "Epoch 76: 38.82137201415179\n",
      "Epoch 77: 37.26528371417601\n",
      "Epoch 78: 35.80452302174741\n",
      "Epoch 79: 34.42864761231957\n",
      "Epoch 80: 33.14079166570399\n",
      "Epoch 81: 31.935278984857725\n",
      "Epoch 82: 30.806799320126025\n",
      "Epoch 83: 29.74883725124926\n",
      "Epoch 84: 28.75753059838163\n",
      "Epoch 85: 27.828843814313508\n",
      "Epoch 86: 26.95892982277774\n",
      "Epoch 87: 26.143821478840945\n",
      "Epoch 88: 25.38612711686935\n",
      "Epoch 89: 24.68093857832351\n",
      "Epoch 90: 24.01969862843781\n",
      "Epoch 91: 23.411343748113875\n",
      "Epoch 92: 22.841170396880205\n",
      "Epoch 93: 22.30823898453535\n",
      "Epoch 94: 21.810646478993522\n",
      "Epoch 95: 21.345948342074593\n",
      "Epoch 96: 20.91201211649214\n",
      "Epoch 97: 20.5068725735208\n",
      "Epoch 98: 20.12850519813058\n",
      "Epoch 99: 19.7766584059922\n",
      "w: -4.224999, b: 78.485054\n",
      "Toooooooook: 17.027000 seconds\n"
     ]
    }
   ],
   "source": [
    "### 使用 make_initializable_iterator\n",
    "\n",
    "# 由於 make_one_shot_iterator() 只能make one shot...\n",
    "# 第二次epoch時，就讀不到資料了\n",
    "# 用 make_initializable_iterator 來替代，他可以在每個epoch 開始時，初始化 dataset\n",
    "\n",
    "iterator = dataset.make_initializable_iterator()\n",
    "X, Y = iterator.get_next()\n",
    "\n",
    "w = tf.Variable(initial_value=0.0)\n",
    "b = tf.Variable(initial_value=0.0)\n",
    "\n",
    "Y_predicted = X * w + b\n",
    "\n",
    "loss = huber_loss(labels = Y, predictions = Y_predicted)\n",
    "optimizer = tf.train.GradientDescentOptimizer(learning_rate=0.001).minimize(loss)\n",
    "\n",
    "start = time.time()\n",
    "with tf.Session() as sess:\n",
    "    sess.run(tf.global_variables_initializer())\n",
    "    writer = tf.summary.FileWriter('./graphs/linear_reg', sess.graph)\n",
    "    \n",
    "    for i in range(100):\n",
    "        sess.run(iterator.initializer)\n",
    "        total_loss = 0\n",
    "        try:\n",
    "            while True:\n",
    "                _, l = sess.run([optimizer, loss])\n",
    "                total_loss += l\n",
    "        except tf.errors.OutOfRangeError:\n",
    "            pass\n",
    "        print(\"Epoch {}: {}\".format(i, total_loss/n_samples))\n",
    "        \n",
    "    w_out, b_out = sess.run([w,b])\n",
    "    print(\"w: %f, b: %f\"%(w_out, b_out))\n",
    "print('Toooooooook: %f seconds' %(time.time() - start))\n",
    "    "
   ]
  }
 ],
 "metadata": {
  "kernelspec": {
   "display_name": "Python 3",
   "language": "python",
   "name": "python3"
  },
  "language_info": {
   "codemirror_mode": {
    "name": "ipython",
    "version": 3
   },
   "file_extension": ".py",
   "mimetype": "text/x-python",
   "name": "python",
   "nbconvert_exporter": "python",
   "pygments_lexer": "ipython3",
   "version": "3.6.3"
  }
 },
 "nbformat": 4,
 "nbformat_minor": 2
}
