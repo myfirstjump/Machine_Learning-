{
 "cells": [
  {
   "cell_type": "markdown",
   "metadata": {
    "collapsed": true
   },
   "source": [
    "##　PLA by data https://www.csie.ntu.edu.tw/~htlin/mooc/datasets/mlfound_math/hw1_15_train.dat"
   ]
  },
  {
   "cell_type": "code",
   "execution_count": 2,
   "metadata": {
    "collapsed": true
   },
   "outputs": [],
   "source": [
    "import pandas as pd\n",
    "import numpy as np"
   ]
  },
  {
   "cell_type": "code",
   "execution_count": 3,
   "metadata": {
    "collapsed": true
   },
   "outputs": [],
   "source": [
    "data = pd.read_table(\"https://www.csie.ntu.edu.tw/~htlin/mooc/datasets/mlfound_math/hw1_15_train.dat\", header=None, names=[\"X\", \"y\"])"
   ]
  },
  {
   "cell_type": "code",
   "execution_count": 4,
   "metadata": {},
   "outputs": [
    {
     "data": {
      "text/html": [
       "<div>\n",
       "<style>\n",
       "    .dataframe thead tr:only-child th {\n",
       "        text-align: right;\n",
       "    }\n",
       "\n",
       "    .dataframe thead th {\n",
       "        text-align: left;\n",
       "    }\n",
       "\n",
       "    .dataframe tbody tr th {\n",
       "        vertical-align: top;\n",
       "    }\n",
       "</style>\n",
       "<table border=\"1\" class=\"dataframe\">\n",
       "  <thead>\n",
       "    <tr style=\"text-align: right;\">\n",
       "      <th></th>\n",
       "      <th>X</th>\n",
       "      <th>y</th>\n",
       "    </tr>\n",
       "  </thead>\n",
       "  <tbody>\n",
       "    <tr>\n",
       "      <th>0</th>\n",
       "      <td>0.97681 0.10723 0.64385 0.29556</td>\n",
       "      <td>1</td>\n",
       "    </tr>\n",
       "    <tr>\n",
       "      <th>1</th>\n",
       "      <td>0.67194 0.2418 0.83075 0.42741</td>\n",
       "      <td>1</td>\n",
       "    </tr>\n",
       "    <tr>\n",
       "      <th>2</th>\n",
       "      <td>0.20619 0.23321 0.81004 0.98691</td>\n",
       "      <td>1</td>\n",
       "    </tr>\n",
       "    <tr>\n",
       "      <th>3</th>\n",
       "      <td>0.51583 0.055814 0.92274 0.75797</td>\n",
       "      <td>1</td>\n",
       "    </tr>\n",
       "    <tr>\n",
       "      <th>4</th>\n",
       "      <td>0.70893 0.10836 0.33951 0.77058</td>\n",
       "      <td>1</td>\n",
       "    </tr>\n",
       "  </tbody>\n",
       "</table>\n",
       "</div>"
      ],
      "text/plain": [
       "                                  X  y\n",
       "0   0.97681 0.10723 0.64385 0.29556  1\n",
       "1    0.67194 0.2418 0.83075 0.42741  1\n",
       "2   0.20619 0.23321 0.81004 0.98691  1\n",
       "3  0.51583 0.055814 0.92274 0.75797  1\n",
       "4   0.70893 0.10836 0.33951 0.77058  1"
      ]
     },
     "execution_count": 4,
     "metadata": {},
     "output_type": "execute_result"
    }
   ],
   "source": [
    "data.head()    ## x是四個維度的點  y是 +/- 1的值"
   ]
  },
  {
   "cell_type": "code",
   "execution_count": 5,
   "metadata": {},
   "outputs": [
    {
     "data": {
      "text/plain": [
       "pandas.core.frame.DataFrame"
      ]
     },
     "execution_count": 5,
     "metadata": {},
     "output_type": "execute_result"
    }
   ],
   "source": [
    "type(data)"
   ]
  },
  {
   "cell_type": "code",
   "execution_count": 6,
   "metadata": {},
   "outputs": [
    {
     "data": {
      "text/plain": [
       "'0.97681 0.10723 0.64385 0.29556'"
      ]
     },
     "execution_count": 6,
     "metadata": {},
     "output_type": "execute_result"
    }
   ],
   "source": [
    "## X是string......\n",
    "data.X.loc[0]"
   ]
  },
  {
   "cell_type": "code",
   "execution_count": 7,
   "metadata": {
    "scrolled": false
   },
   "outputs": [
    {
     "data": {
      "text/html": [
       "<div>\n",
       "<style>\n",
       "    .dataframe thead tr:only-child th {\n",
       "        text-align: right;\n",
       "    }\n",
       "\n",
       "    .dataframe thead th {\n",
       "        text-align: left;\n",
       "    }\n",
       "\n",
       "    .dataframe tbody tr th {\n",
       "        vertical-align: top;\n",
       "    }\n",
       "</style>\n",
       "<table border=\"1\" class=\"dataframe\">\n",
       "  <thead>\n",
       "    <tr style=\"text-align: right;\">\n",
       "      <th></th>\n",
       "      <th>x0</th>\n",
       "      <th>x1</th>\n",
       "      <th>x2</th>\n",
       "      <th>x3</th>\n",
       "      <th>x4</th>\n",
       "    </tr>\n",
       "  </thead>\n",
       "  <tbody>\n",
       "    <tr>\n",
       "      <th>0</th>\n",
       "      <td>1.0</td>\n",
       "      <td>0.97681</td>\n",
       "      <td>0.107230</td>\n",
       "      <td>0.64385</td>\n",
       "      <td>0.29556</td>\n",
       "    </tr>\n",
       "    <tr>\n",
       "      <th>1</th>\n",
       "      <td>1.0</td>\n",
       "      <td>0.67194</td>\n",
       "      <td>0.241800</td>\n",
       "      <td>0.83075</td>\n",
       "      <td>0.42741</td>\n",
       "    </tr>\n",
       "    <tr>\n",
       "      <th>2</th>\n",
       "      <td>1.0</td>\n",
       "      <td>0.20619</td>\n",
       "      <td>0.233210</td>\n",
       "      <td>0.81004</td>\n",
       "      <td>0.98691</td>\n",
       "    </tr>\n",
       "    <tr>\n",
       "      <th>3</th>\n",
       "      <td>1.0</td>\n",
       "      <td>0.51583</td>\n",
       "      <td>0.055814</td>\n",
       "      <td>0.92274</td>\n",
       "      <td>0.75797</td>\n",
       "    </tr>\n",
       "    <tr>\n",
       "      <th>4</th>\n",
       "      <td>1.0</td>\n",
       "      <td>0.70893</td>\n",
       "      <td>0.108360</td>\n",
       "      <td>0.33951</td>\n",
       "      <td>0.77058</td>\n",
       "    </tr>\n",
       "  </tbody>\n",
       "</table>\n",
       "</div>"
      ],
      "text/plain": [
       "    x0       x1        x2       x3       x4\n",
       "0  1.0  0.97681  0.107230  0.64385  0.29556\n",
       "1  1.0  0.67194  0.241800  0.83075  0.42741\n",
       "2  1.0  0.20619  0.233210  0.81004  0.98691\n",
       "3  1.0  0.51583  0.055814  0.92274  0.75797\n",
       "4  1.0  0.70893  0.108360  0.33951  0.77058"
      ]
     },
     "execution_count": 7,
     "metadata": {},
     "output_type": "execute_result"
    }
   ],
   "source": [
    "X = pd.DataFrame(data.X.str.split(' ',3).tolist(), columns = ['x1','x2','x3','x4'], dtype=float)\n",
    "x0 = pd.DataFrame(np.ones([len(X), 1]), columns=[\"x0\"])\n",
    "X = pd.concat([x0, X], axis=1)\n",
    "y = data.y\n",
    "X.head()"
   ]
  },
  {
   "cell_type": "code",
   "execution_count": 8,
   "metadata": {},
   "outputs": [
    {
     "name": "stdout",
     "output_type": "stream",
     "text": [
      "0 [ 1.       0.97681  0.10723  0.64385  0.29556]\n",
      "1 [ 1.       0.67194  0.2418   0.83075  0.42741]\n",
      "2 [ 1.       0.20619  0.23321  0.81004  0.98691]\n",
      "3 [ 1.        0.51583   0.055814  0.92274   0.75797 ]\n",
      "4 [ 1.       0.70893  0.10836  0.33951  0.77058]\n"
     ]
    }
   ],
   "source": [
    "## enumerate 有點像對 columns 點名 ；若是array 像下面這樣 就是對 array 點名 \n",
    "for i, x in enumerate(np.array(X)):\n",
    "    if i < 5:\n",
    "        print(i, x)"
   ]
  },
  {
   "cell_type": "code",
   "execution_count": 9,
   "metadata": {},
   "outputs": [
    {
     "data": {
      "text/plain": [
       "array([ 149.,  152.,  166.,  337.,  187.])"
      ]
     },
     "execution_count": 9,
     "metadata": {},
     "output_type": "execute_result"
    }
   ],
   "source": [
    "np.floor(np.random.rand(5)*400)"
   ]
  },
  {
   "cell_type": "code",
   "execution_count": 193,
   "metadata": {},
   "outputs": [
    {
     "name": "stdout",
     "output_type": "stream",
     "text": [
      "count: 37\n",
      "[-3.         2.2176136 -1.002694   2.873445   3.6551355]\n"
     ]
    }
   ],
   "source": [
    "## perceptron algorithm  Q 15\n",
    "\n",
    "# X = np.array([\n",
    "#     [-2,4,-1],\n",
    "#     [4,1,-1],\n",
    "#     [1, 6, -1],\n",
    "#     [2, 4, -1],\n",
    "#     [6, 2, -1],\n",
    "\n",
    "# ])\n",
    "\n",
    "#y = np.array([-1,-1,1,1,1])\n",
    "\n",
    "def perceptron(X, Y):\n",
    "    w = np.zeros(len(X[0]))\n",
    "    eta = 1\n",
    "    cnt = 0\n",
    "    for i, x in enumerate(X):\n",
    "        if (np.dot(X[i], w)*Y[i]) <= 0: ## 有錯發生，進行更新\n",
    "#                 print(\" i = {}\".format(i))\n",
    "            cnt = cnt + 1\n",
    "            w = w + eta*X[i]*Y[i]\n",
    "    print(\"count: {}\".format(cnt))\n",
    "    return w\n",
    "\n",
    "w = perceptron(np.array(X),np.array(y))\n",
    "print(w)"
   ]
  },
  {
   "cell_type": "code",
   "execution_count": 11,
   "metadata": {},
   "outputs": [
    {
     "data": {
      "text/plain": [
       "array([232, 129,  68, 114, 388, 376, 253, 238, 330, 217,  82, 332, 230,\n",
       "        39, 223, 159,  52,  77,  32, 153, 160, 109, 392, 270, 258,  84,\n",
       "       224,  12, 273, 122, 115, 169, 243,  73, 227,  24,   1, 291,  60,\n",
       "        67, 288, 234, 256, 205, 128,  71, 347,  40, 394, 172, 197, 396,\n",
       "       112, 187, 391,  93, 262, 317, 150, 101, 335, 385,  81, 337, 206,\n",
       "        11, 185, 275,  31,  34,  94, 175, 314, 398, 143,  49, 233, 231,\n",
       "       284,  90, 325,  45, 174, 248,   0, 130, 389, 352,  99, 346, 383,\n",
       "       235, 240,  88, 280, 303, 137, 294, 156, 300, 201,   6,  30, 311,\n",
       "       269, 290,  22, 210, 329, 305, 165, 244, 261, 272, 372,  14, 118,\n",
       "       166, 343, 313, 277, 213, 334,  69, 327,  63, 242, 360,  92, 319,\n",
       "       283,  91, 167, 111, 162, 225, 102, 268,  17,  44,   8,  97, 359,\n",
       "       354, 351, 184, 357, 306, 204,  53, 193, 126,  59, 302, 229, 371,\n",
       "       353, 127,  70,  62, 190, 328, 117, 339, 257, 173, 386, 131, 207,\n",
       "       209, 286,  27, 358, 105, 263, 179, 145, 279, 259, 331, 323, 146,\n",
       "       103, 113, 336, 134,  25,  89,  46, 132,  29, 171, 245, 106, 119,\n",
       "       342,  61, 144, 203,  87, 136, 368, 170,   2,  18, 382, 212, 226,\n",
       "       138, 181,   3,  96,  98, 281, 298, 265, 241, 390, 271, 316, 180,\n",
       "       267,  74,  95, 189, 333, 324, 320, 399,  43, 116, 237,  56, 251,\n",
       "       289, 192,  26,  75, 378, 364,  33, 282, 183,  41, 214, 361,  76,\n",
       "       239, 297,  72, 133,  54, 198,  78, 221, 287, 199, 315,  48, 195,\n",
       "       161, 154,  57, 120,  50, 149, 304, 322, 312, 220, 218, 125, 157,\n",
       "       155, 147, 222, 178, 296, 276, 381, 384,  47,  20, 254,  10, 247,\n",
       "         9,   7,   4,  37, 377, 366,  79,  85, 164, 196, 309, 380, 177,\n",
       "        13,  65, 379, 200,  51,  19, 141,  21, 121, 208,  80, 108, 374,\n",
       "       135, 293,  28, 142, 176, 124, 370, 236, 104, 152, 252, 266, 321,\n",
       "       158, 191, 363, 365, 367,  55, 285,  58, 350, 310, 123, 139, 274,\n",
       "       393, 186, 387, 292, 194, 395,  36, 264, 278, 211, 110,  15,  38,\n",
       "        66, 308, 140, 369, 188, 260, 397, 362, 348, 295, 340, 250, 338,\n",
       "       107,  23, 326, 375, 216, 373, 318, 228, 349, 168,  42, 345, 255,\n",
       "        35, 249, 341, 163, 182, 355, 100, 307, 344, 215, 151,  64, 219,\n",
       "        16,   5,  86, 356, 148, 299, 246, 202,  83, 301])"
      ]
     },
     "execution_count": 11,
     "metadata": {},
     "output_type": "execute_result"
    }
   ],
   "source": [
    "## 這次要使用 random 的 cycle 去跑 X (記得 y 也要一起改順序)\n",
    "cycle = np.array(np.arange(len(X)))\n",
    "np.random.shuffle(cycle)\n",
    "cycle"
   ]
  },
  {
   "cell_type": "code",
   "execution_count": 194,
   "metadata": {},
   "outputs": [
    {
     "name": "stdout",
     "output_type": "stream",
     "text": [
      "34.4905\n"
     ]
    }
   ],
   "source": [
    "## 這次要使用 random 的 cycle，然後跑2000次看平均結果要update幾次  (Q 16)\n",
    "def perceptron_random(X, Y):\n",
    "    w = np.zeros(len(X[0]))\n",
    "    eta = 1\n",
    "    cnt = 0\n",
    "    cycle = np.array(np.arange(len(X))) # 做 random cycle\n",
    "    np.random.shuffle(cycle)\n",
    "    for i, x in enumerate(X[cycle]):\n",
    "        if (np.dot(X[cycle][i], w)*Y[cycle][i]) <= 0:\n",
    "            #print(\"t = {}, i = {}\".format(t, i))\n",
    "            cnt = cnt + 1\n",
    "            w = w + eta*X[cycle][i]*Y[cycle][i]\n",
    "#     print(cnt)\n",
    "    return cnt\n",
    "\n",
    "cnt_sum = 0\n",
    "for i in range(2000):\n",
    "    cnt = perceptron_random(np.array(X),np.array(y))\n",
    "    cnt_sum = cnt_sum + cnt\n",
    "print(cnt_sum/2000)"
   ]
  },
  {
   "cell_type": "code",
   "execution_count": 195,
   "metadata": {},
   "outputs": [
    {
     "name": "stdout",
     "output_type": "stream",
     "text": [
      "68.804\n"
     ]
    }
   ],
   "source": [
    "## 這次除了要使用 random 的 cycle，還要更改 learning rate    (Q 17)\n",
    "def perceptron_random(X, Y, eta):\n",
    "    w = np.zeros(len(X[0]))\n",
    "    eta = eta\n",
    "    cnt = 0\n",
    "    cycle = np.array(np.arange(len(X))) # 做 random cycle\n",
    "    np.random.shuffle(cycle)\n",
    "    for i, x in enumerate(X[cycle]):\n",
    "        if (np.dot(X[cycle][i], w)*Y[cycle][i]) <= 0:\n",
    "            #print(\"t = {}, i = {}\".format(t, i))\n",
    "            cnt = cnt + 1\n",
    "            w = w + eta*X[cycle][i]*Y[cycle][i]\n",
    "    #print(cnt)\n",
    "    return cnt\n",
    "\n",
    "for i in range(2000):\n",
    "    cnt = perceptron_random(np.array(X),np.array(y), 0.5)\n",
    "    cnt_sum = cnt_sum + cnt\n",
    "print(cnt_sum/2000)"
   ]
  },
  {
   "cell_type": "markdown",
   "metadata": {
    "collapsed": true
   },
   "source": [
    "## 進行 pocket algorithm\n",
    "###### Train : https://www.csie.ntu.edu.tw/~htlin/mooc/datasets/mlfound_math/hw1_18_train.dat\n",
    "###### Test  : https://www.csie.ntu.edu.tw/~htlin/mooc/datasets/mlfound_math/hw1_18_test.dat\n"
   ]
  },
  {
   "cell_type": "code",
   "execution_count": 19,
   "metadata": {
    "collapsed": true
   },
   "outputs": [],
   "source": [
    "train = pd.read_table(\"https://www.csie.ntu.edu.tw/~htlin/mooc/datasets/mlfound_math/hw1_18_train.dat\", header=None, names=[\"X\", \"y\"])\n",
    "test = pd.read_table(\"https://www.csie.ntu.edu.tw/~htlin/mooc/datasets/mlfound_math/hw1_18_test.dat\", header=None, names=[\"X\", \"y\"])"
   ]
  },
  {
   "cell_type": "code",
   "execution_count": 45,
   "metadata": {
    "scrolled": true
   },
   "outputs": [
    {
     "data": {
      "text/html": [
       "<div>\n",
       "<style>\n",
       "    .dataframe thead tr:only-child th {\n",
       "        text-align: right;\n",
       "    }\n",
       "\n",
       "    .dataframe thead th {\n",
       "        text-align: left;\n",
       "    }\n",
       "\n",
       "    .dataframe tbody tr th {\n",
       "        vertical-align: top;\n",
       "    }\n",
       "</style>\n",
       "<table border=\"1\" class=\"dataframe\">\n",
       "  <thead>\n",
       "    <tr style=\"text-align: right;\">\n",
       "      <th></th>\n",
       "      <th>x0</th>\n",
       "      <th>x1</th>\n",
       "      <th>x2</th>\n",
       "      <th>x3</th>\n",
       "      <th>x4</th>\n",
       "    </tr>\n",
       "  </thead>\n",
       "  <tbody>\n",
       "    <tr>\n",
       "      <th>0</th>\n",
       "      <td>1.0</td>\n",
       "      <td>0.94544</td>\n",
       "      <td>0.428420</td>\n",
       "      <td>0.798330</td>\n",
       "      <td>0.162440</td>\n",
       "    </tr>\n",
       "    <tr>\n",
       "      <th>1</th>\n",
       "      <td>1.0</td>\n",
       "      <td>0.85365</td>\n",
       "      <td>0.084168</td>\n",
       "      <td>0.568200</td>\n",
       "      <td>0.492210</td>\n",
       "    </tr>\n",
       "    <tr>\n",
       "      <th>2</th>\n",
       "      <td>1.0</td>\n",
       "      <td>0.17095</td>\n",
       "      <td>0.821270</td>\n",
       "      <td>0.984440</td>\n",
       "      <td>0.514860</td>\n",
       "    </tr>\n",
       "    <tr>\n",
       "      <th>3</th>\n",
       "      <td>1.0</td>\n",
       "      <td>0.51412</td>\n",
       "      <td>0.921240</td>\n",
       "      <td>0.423230</td>\n",
       "      <td>0.097934</td>\n",
       "    </tr>\n",
       "    <tr>\n",
       "      <th>4</th>\n",
       "      <td>1.0</td>\n",
       "      <td>0.28147</td>\n",
       "      <td>0.714340</td>\n",
       "      <td>0.075309</td>\n",
       "      <td>0.911600</td>\n",
       "    </tr>\n",
       "  </tbody>\n",
       "</table>\n",
       "</div>"
      ],
      "text/plain": [
       "    x0       x1        x2        x3        x4\n",
       "0  1.0  0.94544  0.428420  0.798330  0.162440\n",
       "1  1.0  0.85365  0.084168  0.568200  0.492210\n",
       "2  1.0  0.17095  0.821270  0.984440  0.514860\n",
       "3  1.0  0.51412  0.921240  0.423230  0.097934\n",
       "4  1.0  0.28147  0.714340  0.075309  0.911600"
      ]
     },
     "execution_count": 45,
     "metadata": {},
     "output_type": "execute_result"
    }
   ],
   "source": [
    "X_train = pd.DataFrame(train.X.str.split(' ',3).tolist(), columns = ['x1','x2','x3','x4'], dtype=float)\n",
    "x0 = pd.DataFrame(np.ones([len(X_train), 1]), columns=[\"x0\"])\n",
    "X_train = pd.concat([x0, X_train], axis=1)\n",
    "Y_train = train.y\n",
    "X_train.head()"
   ]
  },
  {
   "cell_type": "code",
   "execution_count": 44,
   "metadata": {},
   "outputs": [
    {
     "data": {
      "text/html": [
       "<div>\n",
       "<style>\n",
       "    .dataframe thead tr:only-child th {\n",
       "        text-align: right;\n",
       "    }\n",
       "\n",
       "    .dataframe thead th {\n",
       "        text-align: left;\n",
       "    }\n",
       "\n",
       "    .dataframe tbody tr th {\n",
       "        vertical-align: top;\n",
       "    }\n",
       "</style>\n",
       "<table border=\"1\" class=\"dataframe\">\n",
       "  <thead>\n",
       "    <tr style=\"text-align: right;\">\n",
       "      <th></th>\n",
       "      <th>x0</th>\n",
       "      <th>x1</th>\n",
       "      <th>x2</th>\n",
       "      <th>x3</th>\n",
       "      <th>x4</th>\n",
       "    </tr>\n",
       "  </thead>\n",
       "  <tbody>\n",
       "    <tr>\n",
       "      <th>0</th>\n",
       "      <td>1.0</td>\n",
       "      <td>0.629260</td>\n",
       "      <td>0.32783</td>\n",
       "      <td>0.010417</td>\n",
       "      <td>0.731020</td>\n",
       "    </tr>\n",
       "    <tr>\n",
       "      <th>1</th>\n",
       "      <td>1.0</td>\n",
       "      <td>0.323680</td>\n",
       "      <td>0.61439</td>\n",
       "      <td>0.420970</td>\n",
       "      <td>0.025626</td>\n",
       "    </tr>\n",
       "    <tr>\n",
       "      <th>2</th>\n",
       "      <td>1.0</td>\n",
       "      <td>0.159680</td>\n",
       "      <td>0.83346</td>\n",
       "      <td>0.975150</td>\n",
       "      <td>0.327620</td>\n",
       "    </tr>\n",
       "    <tr>\n",
       "      <th>3</th>\n",
       "      <td>1.0</td>\n",
       "      <td>0.023526</td>\n",
       "      <td>0.30292</td>\n",
       "      <td>0.014961</td>\n",
       "      <td>0.922880</td>\n",
       "    </tr>\n",
       "    <tr>\n",
       "      <th>4</th>\n",
       "      <td>1.0</td>\n",
       "      <td>0.458040</td>\n",
       "      <td>0.74520</td>\n",
       "      <td>0.834060</td>\n",
       "      <td>0.549320</td>\n",
       "    </tr>\n",
       "  </tbody>\n",
       "</table>\n",
       "</div>"
      ],
      "text/plain": [
       "    x0        x1       x2        x3        x4\n",
       "0  1.0  0.629260  0.32783  0.010417  0.731020\n",
       "1  1.0  0.323680  0.61439  0.420970  0.025626\n",
       "2  1.0  0.159680  0.83346  0.975150  0.327620\n",
       "3  1.0  0.023526  0.30292  0.014961  0.922880\n",
       "4  1.0  0.458040  0.74520  0.834060  0.549320"
      ]
     },
     "execution_count": 44,
     "metadata": {},
     "output_type": "execute_result"
    }
   ],
   "source": [
    "X_test = pd.DataFrame(test.X.str.split(' ',3).tolist(), columns = ['x1','x2','x3','x4'], dtype=float)\n",
    "x0 = pd.DataFrame(np.ones([len(X_test), 1]), columns=[\"x0\"])\n",
    "X_test = pd.concat([x0, X_test], axis=1)\n",
    "Y_test = test.y\n",
    "X_test.head()"
   ]
  },
  {
   "cell_type": "code",
   "execution_count": 188,
   "metadata": {
    "collapsed": true
   },
   "outputs": [],
   "source": [
    "## 先寫一個 error rate 計算 (1. pocket更新需要 2. test set 需要)\n",
    "def error_rate(w, X, Y):\n",
    "    error = 0\n",
    "    for i, x in enumerate(X):\n",
    "        if (np.dot(X[i], w)*Y[i]) <= 0:\n",
    "            error = error + 1\n",
    "    return error/len(X)"
   ]
  },
  {
   "cell_type": "code",
   "execution_count": 189,
   "metadata": {},
   "outputs": [],
   "source": [
    "def perceptron_pocket(X, Y):\n",
    "    w = np.zeros(len(X[0]))\n",
    "    eta = 1\n",
    "    update = 0  ## update 50次\n",
    "    update_times = 50\n",
    "    error = error_rate(w, X, Y)\n",
    "    cycle = np.array(np.arange(len(X))) # 做 random cycle\n",
    "    np.random.shuffle(cycle)\n",
    "    for i, x in enumerate(X[cycle]):\n",
    "        #print(i)\n",
    "        if (np.dot(w, X[cycle][i])*Y[cycle][i] <=0):\n",
    "            w = w + eta*X[cycle][i]*Y[cycle][i]\n",
    "            error_temp = error_rate(w, X[cycle], Y[cycle])\n",
    "            #print(error_temp)\n",
    "            if error_temp < error: ## 如果error較低，就取代舊的線\n",
    "                #print(i)\n",
    "#                 print(\"Old error: {}\".format(error))\n",
    "#                 print(\"New error: {}\".format(error_temp))\n",
    "                error = error_temp\n",
    "                update = update + 1\n",
    "                #print(\"update: {}\".format(update))\n",
    "                #print(\"w: {}\".format(w))\n",
    "                #print(\"=============\"*5)\n",
    "            if update == update_times:\n",
    "                return w\n",
    "#     print(\"update: {}\".format(update))\n",
    "    return w"
   ]
  },
  {
   "cell_type": "code",
   "execution_count": 191,
   "metadata": {
    "scrolled": false
   },
   "outputs": [
    {
     "data": {
      "text/plain": [
       "array([ 2.       , -3.589644 , -2.7820195, -1.792106 ,  3.0713667])"
      ]
     },
     "execution_count": 191,
     "metadata": {},
     "output_type": "execute_result"
    }
   ],
   "source": [
    "perceptron_pocket(np.array(X_train), np.array(Y_train))"
   ]
  },
  {
   "cell_type": "code",
   "execution_count": 171,
   "metadata": {},
   "outputs": [
    {
     "name": "stdout",
     "output_type": "stream",
     "text": [
      "iterated error rate: 0.23245799999999997\n"
     ]
    }
   ],
   "source": [
    "## Use test set for verification  (Q 18)\n",
    "error_sum = 0\n",
    "for i in range(2000):\n",
    "    w = perceptron_pocket(np.array(X_train), np.array(Y_train))\n",
    "    error = error_rate(w, np.array(X_test), np.array(Y_test))\n",
    "    error_sum = error_sum + error\n",
    "print(\"iterated error rate: {}\".format(error_sum/2000))"
   ]
  },
  {
   "cell_type": "code",
   "execution_count": 179,
   "metadata": {
    "collapsed": true
   },
   "outputs": [],
   "source": [
    "## 用 PLA updates 50次，取代pocket updates 50次的結果\n",
    "def perceptron_random_50update(X, Y, eta=1, update=50):\n",
    "    w = np.zeros(len(X[0]))\n",
    "    eta = eta\n",
    "    cnt = 0\n",
    "    cycle = np.array(np.arange(len(X))) # 做 random cycle\n",
    "    np.random.shuffle(cycle)\n",
    "    for i, x in enumerate(X[cycle]):\n",
    "        if (np.dot(X[cycle][i], w)*Y[cycle][i]) <= 0:\n",
    "            cnt = cnt + 1\n",
    "            w = w + eta*X[cycle][i]*Y[cycle][i]\n",
    "        if cnt == update:\n",
    "            return w"
   ]
  },
  {
   "cell_type": "code",
   "execution_count": 182,
   "metadata": {},
   "outputs": [
    {
     "name": "stdout",
     "output_type": "stream",
     "text": [
      "iterated error rate: 0.3631099999999999\n"
     ]
    }
   ],
   "source": [
    "error_sum = 0\n",
    "for i in range(2000):\n",
    "    w = perceptron_random_50update(np.array(X_train), np.array(Y_train))\n",
    "    error = error_rate(w, np.array(X_test), np.array(Y_test))\n",
    "    error_sum = error_sum + error\n",
    "print(\"iterated error rate: {}\".format(error_sum/2000))"
   ]
  },
  {
   "cell_type": "code",
   "execution_count": 183,
   "metadata": {},
   "outputs": [
    {
     "name": "stdout",
     "output_type": "stream",
     "text": [
      "iterated error rate: 0.23459900000000003\n"
     ]
    }
   ],
   "source": [
    "## Final, 100 updates instead of 50, and verify the performance of POCKET\n",
    "def perceptron_pocket(X, Y, update_times = 100):\n",
    "    w = np.zeros(len(X[0]))\n",
    "    eta = 1\n",
    "    update = 0\n",
    "    update_times = update_times\n",
    "    error = error_rate(w, X, Y)\n",
    "    cycle = np.array(np.arange(len(X))) # 做 random cycle\n",
    "    np.random.shuffle(cycle)\n",
    "    for i, x in enumerate(X[cycle]):\n",
    "        if (np.dot(w, X[cycle][i])*Y[cycle][i] <=0):\n",
    "            w = w + eta*X[cycle][i]*Y[cycle][i]\n",
    "            error_temp = error_rate(w, X[cycle], Y[cycle])\n",
    "            #print(error_temp)\n",
    "            if error_temp < error: ## 如果error較低，就取代舊的線\n",
    "                error = error_temp\n",
    "                update = update + 1\n",
    "            if update == update_times:\n",
    "                return w\n",
    "    return w\n",
    "\n",
    "## Use test set for verification\n",
    "error_sum = 0\n",
    "for i in range(2000):\n",
    "    w = perceptron_pocket(np.array(X_train), np.array(Y_train))\n",
    "    error = error_rate(w, np.array(X_test), np.array(Y_test))\n",
    "    error_sum = error_sum + error\n",
    "print(\"iterated error rate: {}\".format(error_sum/2000))"
   ]
  }
 ],
 "metadata": {
  "kernelspec": {
   "display_name": "Python 3",
   "language": "python",
   "name": "python3"
  },
  "language_info": {
   "codemirror_mode": {
    "name": "ipython",
    "version": 3
   },
   "file_extension": ".py",
   "mimetype": "text/x-python",
   "name": "python",
   "nbconvert_exporter": "python",
   "pygments_lexer": "ipython3",
   "version": "3.6.1"
  }
 },
 "nbformat": 4,
 "nbformat_minor": 2
}
